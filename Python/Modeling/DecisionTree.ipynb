{
 "cells": [
  {
   "cell_type": "markdown",
   "metadata": {},
   "source": [
    "## Decision Tree Example\n",
    "\n",
    "This builds a basic decision tree regressor model. This model just uses the training set and these are split before starting. \n",
    "\n",
    "https://scikit-learn.org/stable/modules/generated/sklearn.tree.DecisionTreeRegressor.html"
   ]
  },
  {
   "cell_type": "code",
   "execution_count": 3,
   "metadata": {},
   "outputs": [
    {
     "name": "stdout",
     "output_type": "stream",
     "text": [
      "Index(['Id', 'MSSubClass', 'MSZoning', 'LotFrontage', 'LotArea', 'Street',\n",
      "       'Alley', 'LotShape', 'LandContour', 'Utilities', 'LotConfig',\n",
      "       'LandSlope', 'Neighborhood', 'Condition1', 'Condition2', 'BldgType',\n",
      "       'HouseStyle', 'OverallQual', 'OverallCond', 'YearBuilt', 'YearRemodAdd',\n",
      "       'RoofStyle', 'RoofMatl', 'Exterior1st', 'Exterior2nd', 'MasVnrType',\n",
      "       'MasVnrArea', 'ExterQual', 'ExterCond', 'Foundation', 'BsmtQual',\n",
      "       'BsmtCond', 'BsmtExposure', 'BsmtFinType1', 'BsmtFinSF1',\n",
      "       'BsmtFinType2', 'BsmtFinSF2', 'BsmtUnfSF', 'TotalBsmtSF', 'Heating',\n",
      "       'HeatingQC', 'CentralAir', 'Electrical', '1stFlrSF', '2ndFlrSF',\n",
      "       'LowQualFinSF', 'GrLivArea', 'BsmtFullBath', 'BsmtHalfBath', 'FullBath',\n",
      "       'HalfBath', 'BedroomAbvGr', 'KitchenAbvGr', 'KitchenQual',\n",
      "       'TotRmsAbvGrd', 'Functional', 'Fireplaces', 'FireplaceQu', 'GarageType',\n",
      "       'GarageYrBlt', 'GarageFinish', 'GarageCars', 'GarageArea', 'GarageQual',\n",
      "       'GarageCond', 'PavedDrive', 'WoodDeckSF', 'OpenPorchSF',\n",
      "       'EnclosedPorch', '3SsnPorch', 'ScreenPorch', 'PoolArea', 'PoolQC',\n",
      "       'Fence', 'MiscFeature', 'MiscVal', 'MoSold', 'YrSold', 'SaleType',\n",
      "       'SaleCondition', 'SalePrice'],\n",
      "      dtype='object')\n"
     ]
    }
   ],
   "source": [
    "import pandas as pd\n",
    "\n",
    "# Path of the file to read\n",
    "iowa_file_path = 'data/KaggleHousing/train.csv'\n",
    "\n",
    "home_data = pd.read_csv(iowa_file_path)\n",
    "\n",
    "print(home_data.columns)"
   ]
  },
  {
   "cell_type": "code",
   "execution_count": 4,
   "metadata": {},
   "outputs": [],
   "source": [
    "# Setup target\n",
    "y = home_data.SalePrice\n",
    "\n",
    "# Create the list of features below\n",
    "feature_names = [\"LotArea\", \"YearBuilt\", \"1stFlrSF\", \"2ndFlrSF\",\n",
    "                      \"FullBath\", \"BedroomAbvGr\", \"TotRmsAbvGrd\"]\n",
    "\n",
    "# select data corresponding to features in feature_names\n",
    "X = home_data[feature_names]"
   ]
  },
  {
   "cell_type": "code",
   "execution_count": 5,
   "metadata": {},
   "outputs": [
    {
     "name": "stdout",
     "output_type": "stream",
     "text": [
      "             LotArea    YearBuilt     1stFlrSF     2ndFlrSF     FullBath  \\\n",
      "count    1460.000000  1460.000000  1460.000000  1460.000000  1460.000000   \n",
      "mean    10516.828082  1971.267808  1162.626712   346.992466     1.565068   \n",
      "std      9981.264932    30.202904   386.587738   436.528436     0.550916   \n",
      "min      1300.000000  1872.000000   334.000000     0.000000     0.000000   \n",
      "25%      7553.500000  1954.000000   882.000000     0.000000     1.000000   \n",
      "50%      9478.500000  1973.000000  1087.000000     0.000000     2.000000   \n",
      "75%     11601.500000  2000.000000  1391.250000   728.000000     2.000000   \n",
      "max    215245.000000  2010.000000  4692.000000  2065.000000     3.000000   \n",
      "\n",
      "       BedroomAbvGr  TotRmsAbvGrd  \n",
      "count   1460.000000   1460.000000  \n",
      "mean       2.866438      6.517808  \n",
      "std        0.815778      1.625393  \n",
      "min        0.000000      2.000000  \n",
      "25%        2.000000      5.000000  \n",
      "50%        3.000000      6.000000  \n",
      "75%        3.000000      7.000000  \n",
      "max        8.000000     14.000000  \n",
      "<bound method NDFrame.head of       LotArea  YearBuilt  1stFlrSF  2ndFlrSF  FullBath  BedroomAbvGr  \\\n",
      "0        8450       2003       856       854         2             3   \n",
      "1        9600       1976      1262         0         2             3   \n",
      "2       11250       2001       920       866         2             3   \n",
      "3        9550       1915       961       756         1             3   \n",
      "4       14260       2000      1145      1053         2             4   \n",
      "5       14115       1993       796       566         1             1   \n",
      "6       10084       2004      1694         0         2             3   \n",
      "7       10382       1973      1107       983         2             3   \n",
      "8        6120       1931      1022       752         2             2   \n",
      "9        7420       1939      1077         0         1             2   \n",
      "10      11200       1965      1040         0         1             3   \n",
      "11      11924       2005      1182      1142         3             4   \n",
      "12      12968       1962       912         0         1             2   \n",
      "13      10652       2006      1494         0         2             3   \n",
      "14      10920       1960      1253         0         1             2   \n",
      "15       6120       1929       854         0         1             2   \n",
      "16      11241       1970      1004         0         1             2   \n",
      "17      10791       1967      1296         0         2             2   \n",
      "18      13695       2004      1114         0         1             3   \n",
      "19       7560       1958      1339         0         1             3   \n",
      "20      14215       2005      1158      1218         3             4   \n",
      "21       7449       1930      1108         0         1             3   \n",
      "22       9742       2002      1795         0         2             3   \n",
      "23       4224       1976      1060         0         1             3   \n",
      "24       8246       1968      1060         0         1             3   \n",
      "25      14230       2007      1600         0         2             3   \n",
      "26       7200       1951       900         0         1             3   \n",
      "27      11478       2007      1704         0         2             3   \n",
      "28      16321       1957      1600         0         1             2   \n",
      "29       6324       1927       520         0         1             1   \n",
      "...       ...        ...       ...       ...       ...           ...   \n",
      "1430    21930       2005       734      1104         2             4   \n",
      "1431     4928       1976       958         0         2             2   \n",
      "1432    10800       1927       968         0         2             4   \n",
      "1433    10261       2000       962       830         2             3   \n",
      "1434    17400       1977      1126         0         2             3   \n",
      "1435     8400       1962      1537         0         1             3   \n",
      "1436     9000       1971       864         0         1             3   \n",
      "1437    12444       2008      1932         0         2             2   \n",
      "1438     7407       1957      1236         0         1             2   \n",
      "1439    11584       1979      1040       685         2             3   \n",
      "1440    11526       1922      1423       748         2             3   \n",
      "1441     4426       2004       848         0         1             1   \n",
      "1442    11003       2008      1026       981         2             3   \n",
      "1443     8854       1916       952         0         1             2   \n",
      "1444     8500       2004      1422         0         2             3   \n",
      "1445     8400       1966       913         0         1             3   \n",
      "1446    26142       1962      1188         0         1             3   \n",
      "1447    10000       1995      1220       870         2             3   \n",
      "1448    11767       1910       796       550         1             2   \n",
      "1449     1533       1970       630         0         1             1   \n",
      "1450     9000       1974       896       896         2             4   \n",
      "1451     9262       2008      1578         0         2             3   \n",
      "1452     3675       2005      1072         0         1             2   \n",
      "1453    17217       2006      1140         0         1             3   \n",
      "1454     7500       2004      1221         0         2             2   \n",
      "1455     7917       1999       953       694         2             3   \n",
      "1456    13175       1978      2073         0         2             3   \n",
      "1457     9042       1941      1188      1152         2             4   \n",
      "1458     9717       1950      1078         0         1             2   \n",
      "1459     9937       1965      1256         0         1             3   \n",
      "\n",
      "      TotRmsAbvGrd  \n",
      "0                8  \n",
      "1                6  \n",
      "2                6  \n",
      "3                7  \n",
      "4                9  \n",
      "5                5  \n",
      "6                7  \n",
      "7                7  \n",
      "8                8  \n",
      "9                5  \n",
      "10               5  \n",
      "11              11  \n",
      "12               4  \n",
      "13               7  \n",
      "14               5  \n",
      "15               5  \n",
      "16               5  \n",
      "17               6  \n",
      "18               6  \n",
      "19               6  \n",
      "20               9  \n",
      "21               6  \n",
      "22               7  \n",
      "23               6  \n",
      "24               6  \n",
      "25               7  \n",
      "26               5  \n",
      "27               7  \n",
      "28               6  \n",
      "29               4  \n",
      "...            ...  \n",
      "1430             7  \n",
      "1431             5  \n",
      "1432             5  \n",
      "1433             8  \n",
      "1434             5  \n",
      "1435             7  \n",
      "1436             5  \n",
      "1437             7  \n",
      "1438             6  \n",
      "1439             6  \n",
      "1440            11  \n",
      "1441             3  \n",
      "1442            10  \n",
      "1443             4  \n",
      "1444             7  \n",
      "1445             6  \n",
      "1446             6  \n",
      "1447             8  \n",
      "1448             6  \n",
      "1449             3  \n",
      "1450             8  \n",
      "1451             7  \n",
      "1452             5  \n",
      "1453             6  \n",
      "1454             6  \n",
      "1455             7  \n",
      "1456             7  \n",
      "1457             9  \n",
      "1458             5  \n",
      "1459             6  \n",
      "\n",
      "[1460 rows x 7 columns]>\n"
     ]
    }
   ],
   "source": [
    "# Review data\n",
    "# print description or statistics from X\n",
    "print(X.describe())\n",
    "\n",
    "# print the top few lines\n",
    "print(X.head)"
   ]
  },
  {
   "cell_type": "code",
   "execution_count": 6,
   "metadata": {},
   "outputs": [
    {
     "data": {
      "text/plain": [
       "DecisionTreeRegressor(criterion='mse', max_depth=None, max_features=None,\n",
       "           max_leaf_nodes=None, min_impurity_decrease=0.0,\n",
       "           min_impurity_split=None, min_samples_leaf=1,\n",
       "           min_samples_split=2, min_weight_fraction_leaf=0.0,\n",
       "           presort=False, random_state=1, splitter='best')"
      ]
     },
     "execution_count": 6,
     "metadata": {},
     "output_type": "execute_result"
    }
   ],
   "source": [
    "from sklearn.tree import DecisionTreeRegressor\n",
    "#specify the model. \n",
    "#For model reproducibility, set a numeric value for random_state when specifying the model\n",
    "iowa_model = DecisionTreeRegressor(random_state=1)\n",
    "\n",
    "iowa_model.fit(X, y)"
   ]
  },
  {
   "cell_type": "code",
   "execution_count": 7,
   "metadata": {},
   "outputs": [
    {
     "name": "stdout",
     "output_type": "stream",
     "text": [
      "[208500. 181500. 223500. ... 266500. 142125. 147500.]\n"
     ]
    }
   ],
   "source": [
    "#make predictions\n",
    "predictions = iowa_model.predict(X)\n",
    "print(predictions)"
   ]
  },
  {
   "cell_type": "code",
   "execution_count": 9,
   "metadata": {},
   "outputs": [
    {
     "data": {
      "text/plain": [
       "62.35433789954339"
      ]
     },
     "execution_count": 9,
     "metadata": {},
     "output_type": "execute_result"
    }
   ],
   "source": [
    "#Calculate mean absolute error for training set (for diagnostics, run this for testing set when ready)\n",
    "from sklearn.metrics import mean_absolute_error\n",
    "mean_absolute_error(y, predictions)"
   ]
  }
 ],
 "metadata": {
  "kernelspec": {
   "display_name": "Python 3",
   "language": "python",
   "name": "python3"
  },
  "language_info": {
   "codemirror_mode": {
    "name": "ipython",
    "version": 3
   },
   "file_extension": ".py",
   "mimetype": "text/x-python",
   "name": "python",
   "nbconvert_exporter": "python",
   "pygments_lexer": "ipython3",
   "version": "3.7.0"
  }
 },
 "nbformat": 4,
 "nbformat_minor": 2
}
